{
 "cells": [
  {
   "cell_type": "markdown",
   "id": "d82e06c0",
   "metadata": {},
   "source": [
    "# Inferential Statistics with Python Project\n",
    "\n",
    "\n",
    "**Inferential Statistics** is the subject matter of this project.This project focuses on Inferential Statistics, a field dedicated to drawing conclusions about populations from sample data. Employing techniques like z-test, t-test, and p-value analysis, the project delves into Hypothesis Testing. For categorical variables, the Chi-squared test is applied, while One-Way ANOVA is used to analyze scenarios with more than two subgroups. Additionally, the project involves calculating Confidence Intervals and determining margins of error."
   ]
  },
  {
   "cell_type": "markdown",
   "id": "f233298d",
   "metadata": {},
   "source": [
    "## Note\n",
    "\n",
    "1) Performed all the Statistical analysis with 5% (Significance level). \n",
    "2) Assume all the features are normally distributed and have equal variance."
   ]
  },
  {
   "cell_type": "code",
   "execution_count": 1,
   "id": "df4ee790",
   "metadata": {},
   "outputs": [],
   "source": [
    "import numpy as np\n",
    "import pandas as pd\n",
    "import matplotlib.pyplot as plt\n",
    "import seaborn as sns\n",
    "\n",
    "import random\n",
    "import statistics\n",
    "\n",
    "from scipy import stats\n",
    "from statsmodels.stats import weightstats as stests\n",
    "from scipy.stats import shapiro\n",
    "from scipy.stats import levene\n",
    "from statsmodels.stats import power\n",
    "\n",
    "import statsmodels.api as sm\n",
    "from statsmodels.formula.api import ols\n",
    "from statsmodels.stats.anova import anova_lm\n",
    "\n",
    "from scipy import stats\n",
    "\n",
    "from scipy.stats import chi2_contingency\n",
    "from scipy.stats import chi2\n",
    "from scipy.stats import chisquare\n",
    "\n",
    "import statsmodels.stats.multicomp as mc"
   ]
  },
  {
   "cell_type": "markdown",
   "id": "b7f1677f",
   "metadata": {},
   "source": [
    "### 1. Performed the following statistical analysis on the fifa world cup dataset. The dataset consists of player information, which includes height; weight overall rating, potential etc. Data Cleaning and basic EDA process needs to be performed."
   ]
  },
  {
   "cell_type": "code",
   "execution_count": 5,
   "id": "4b79bab9",
   "metadata": {},
   "outputs": [],
   "source": [
    "df_fifa=pd.read_csv(r'Downloads/fifa_stats.csv')"
   ]
  },
  {
   "cell_type": "code",
   "execution_count": 6,
   "id": "bb63e444",
   "metadata": {},
   "outputs": [
    {
     "data": {
      "text/html": [
       "<div>\n",
       "<style scoped>\n",
       "    .dataframe tbody tr th:only-of-type {\n",
       "        vertical-align: middle;\n",
       "    }\n",
       "\n",
       "    .dataframe tbody tr th {\n",
       "        vertical-align: top;\n",
       "    }\n",
       "\n",
       "    .dataframe thead th {\n",
       "        text-align: right;\n",
       "    }\n",
       "</style>\n",
       "<table border=\"1\" class=\"dataframe\">\n",
       "  <thead>\n",
       "    <tr style=\"text-align: right;\">\n",
       "      <th></th>\n",
       "      <th>Name</th>\n",
       "      <th>Age</th>\n",
       "      <th>Nationality</th>\n",
       "      <th>Overall_rating</th>\n",
       "      <th>Potential</th>\n",
       "      <th>Club</th>\n",
       "      <th>Preferred Foot</th>\n",
       "      <th>International Reputation</th>\n",
       "      <th>Weak Foot</th>\n",
       "      <th>Skill Moves</th>\n",
       "      <th>Work Rate</th>\n",
       "      <th>Position</th>\n",
       "      <th>Jersey Number</th>\n",
       "      <th>Height</th>\n",
       "      <th>Weight</th>\n",
       "    </tr>\n",
       "  </thead>\n",
       "  <tbody>\n",
       "    <tr>\n",
       "      <th>0</th>\n",
       "      <td>L. Messi</td>\n",
       "      <td>31</td>\n",
       "      <td>Argentina</td>\n",
       "      <td>94</td>\n",
       "      <td>94</td>\n",
       "      <td>FC Barcelona</td>\n",
       "      <td>Left</td>\n",
       "      <td>5</td>\n",
       "      <td>4</td>\n",
       "      <td>4</td>\n",
       "      <td>Medium/ Medium</td>\n",
       "      <td>RF</td>\n",
       "      <td>10</td>\n",
       "      <td>5.583333</td>\n",
       "      <td>159</td>\n",
       "    </tr>\n",
       "    <tr>\n",
       "      <th>1</th>\n",
       "      <td>Cristiano Ronaldo</td>\n",
       "      <td>33</td>\n",
       "      <td>Portugal</td>\n",
       "      <td>94</td>\n",
       "      <td>94</td>\n",
       "      <td>Juventus</td>\n",
       "      <td>Right</td>\n",
       "      <td>5</td>\n",
       "      <td>4</td>\n",
       "      <td>5</td>\n",
       "      <td>High/ Low</td>\n",
       "      <td>ST</td>\n",
       "      <td>7</td>\n",
       "      <td>6.166667</td>\n",
       "      <td>183</td>\n",
       "    </tr>\n",
       "    <tr>\n",
       "      <th>2</th>\n",
       "      <td>Neymar Jr</td>\n",
       "      <td>26</td>\n",
       "      <td>Brazil</td>\n",
       "      <td>92</td>\n",
       "      <td>93</td>\n",
       "      <td>Paris Saint-Germain</td>\n",
       "      <td>Right</td>\n",
       "      <td>5</td>\n",
       "      <td>5</td>\n",
       "      <td>5</td>\n",
       "      <td>High/ Medium</td>\n",
       "      <td>LW</td>\n",
       "      <td>10</td>\n",
       "      <td>5.750000</td>\n",
       "      <td>150</td>\n",
       "    </tr>\n",
       "    <tr>\n",
       "      <th>3</th>\n",
       "      <td>De Gea</td>\n",
       "      <td>27</td>\n",
       "      <td>Spain</td>\n",
       "      <td>91</td>\n",
       "      <td>93</td>\n",
       "      <td>Manchester United</td>\n",
       "      <td>Right</td>\n",
       "      <td>4</td>\n",
       "      <td>3</td>\n",
       "      <td>1</td>\n",
       "      <td>Medium/ Medium</td>\n",
       "      <td>GK</td>\n",
       "      <td>1</td>\n",
       "      <td>6.333333</td>\n",
       "      <td>168</td>\n",
       "    </tr>\n",
       "    <tr>\n",
       "      <th>4</th>\n",
       "      <td>K. De Bruyne</td>\n",
       "      <td>27</td>\n",
       "      <td>Belgium</td>\n",
       "      <td>91</td>\n",
       "      <td>92</td>\n",
       "      <td>Manchester City</td>\n",
       "      <td>Right</td>\n",
       "      <td>4</td>\n",
       "      <td>5</td>\n",
       "      <td>4</td>\n",
       "      <td>High/ High</td>\n",
       "      <td>RCM</td>\n",
       "      <td>7</td>\n",
       "      <td>5.083333</td>\n",
       "      <td>154</td>\n",
       "    </tr>\n",
       "  </tbody>\n",
       "</table>\n",
       "</div>"
      ],
      "text/plain": [
       "                Name  Age Nationality  Overall_rating  Potential  \\\n",
       "0           L. Messi   31   Argentina              94         94   \n",
       "1  Cristiano Ronaldo   33    Portugal              94         94   \n",
       "2          Neymar Jr   26      Brazil              92         93   \n",
       "3             De Gea   27       Spain              91         93   \n",
       "4       K. De Bruyne   27     Belgium              91         92   \n",
       "\n",
       "                  Club Preferred Foot  International Reputation  Weak Foot  \\\n",
       "0         FC Barcelona           Left                         5          4   \n",
       "1             Juventus          Right                         5          4   \n",
       "2  Paris Saint-Germain          Right                         5          5   \n",
       "3    Manchester United          Right                         4          3   \n",
       "4      Manchester City          Right                         4          5   \n",
       "\n",
       "   Skill Moves       Work Rate Position  Jersey Number    Height  Weight  \n",
       "0            4  Medium/ Medium       RF             10  5.583333     159  \n",
       "1            5       High/ Low       ST              7  6.166667     183  \n",
       "2            5    High/ Medium       LW             10  5.750000     150  \n",
       "3            1  Medium/ Medium       GK              1  6.333333     168  \n",
       "4            4      High/ High      RCM              7  5.083333     154  "
      ]
     },
     "execution_count": 6,
     "metadata": {},
     "output_type": "execute_result"
    }
   ],
   "source": [
    "df_fifa.head()"
   ]
  },
  {
   "cell_type": "code",
   "execution_count": 7,
   "id": "2b8b3880",
   "metadata": {},
   "outputs": [
    {
     "data": {
      "text/plain": [
       "(2000, 15)"
      ]
     },
     "execution_count": 7,
     "metadata": {},
     "output_type": "execute_result"
    }
   ],
   "source": [
    "df_fifa.shape"
   ]
  },
  {
   "cell_type": "code",
   "execution_count": 8,
   "id": "8a15d7ce",
   "metadata": {},
   "outputs": [
    {
     "data": {
      "text/plain": [
       "30000"
      ]
     },
     "execution_count": 8,
     "metadata": {},
     "output_type": "execute_result"
    }
   ],
   "source": [
    "df_fifa.size"
   ]
  },
  {
   "cell_type": "code",
   "execution_count": 9,
   "id": "1b15e9b3",
   "metadata": {},
   "outputs": [
    {
     "name": "stdout",
     "output_type": "stream",
     "text": [
      "<class 'pandas.core.frame.DataFrame'>\n",
      "RangeIndex: 2000 entries, 0 to 1999\n",
      "Data columns (total 15 columns):\n",
      " #   Column                    Non-Null Count  Dtype  \n",
      "---  ------                    --------------  -----  \n",
      " 0   Name                      2000 non-null   object \n",
      " 1   Age                       2000 non-null   int64  \n",
      " 2   Nationality               2000 non-null   object \n",
      " 3   Overall_rating            2000 non-null   int64  \n",
      " 4   Potential                 2000 non-null   int64  \n",
      " 5   Club                      1981 non-null   object \n",
      " 6   Preferred Foot            2000 non-null   object \n",
      " 7   International Reputation  2000 non-null   int64  \n",
      " 8   Weak Foot                 2000 non-null   int64  \n",
      " 9   Skill Moves               2000 non-null   int64  \n",
      " 10  Work Rate                 2000 non-null   object \n",
      " 11  Position                  2000 non-null   object \n",
      " 12  Jersey Number             2000 non-null   int64  \n",
      " 13  Height                    2000 non-null   float64\n",
      " 14  Weight                    2000 non-null   int64  \n",
      "dtypes: float64(1), int64(8), object(6)\n",
      "memory usage: 234.5+ KB\n"
     ]
    }
   ],
   "source": [
    "df_fifa.info()"
   ]
  },
  {
   "cell_type": "code",
   "execution_count": 10,
   "id": "e66ee398",
   "metadata": {},
   "outputs": [],
   "source": [
    "df_fifa['Jersey Number']=df_fifa['Jersey Number'].astype('object')"
   ]
  },
  {
   "cell_type": "code",
   "execution_count": 11,
   "id": "f3648a70",
   "metadata": {},
   "outputs": [],
   "source": [
    "df_fifa['Club'].fillna('Not Assigned', inplace = True)"
   ]
  },
  {
   "cell_type": "code",
   "execution_count": 12,
   "id": "3eb04b8e",
   "metadata": {},
   "outputs": [],
   "source": [
    "df_fifa['Attacking Work Rate'] = df_fifa['Work Rate'].str.split('/').str[0]"
   ]
  },
  {
   "cell_type": "code",
   "execution_count": 13,
   "id": "bc1b089f",
   "metadata": {},
   "outputs": [],
   "source": [
    "df_fifa['Defensive Work Rate'] = df_fifa['Work Rate'].str.split('/').str[1]"
   ]
  },
  {
   "cell_type": "code",
   "execution_count": 14,
   "id": "80b23e78",
   "metadata": {},
   "outputs": [],
   "source": [
    "df_fifa.drop(labels = 'Work Rate', axis=1, inplace = True)"
   ]
  },
  {
   "cell_type": "code",
   "execution_count": 15,
   "id": "6df554ce",
   "metadata": {},
   "outputs": [
    {
     "data": {
      "text/html": [
       "<div>\n",
       "<style scoped>\n",
       "    .dataframe tbody tr th:only-of-type {\n",
       "        vertical-align: middle;\n",
       "    }\n",
       "\n",
       "    .dataframe tbody tr th {\n",
       "        vertical-align: top;\n",
       "    }\n",
       "\n",
       "    .dataframe thead th {\n",
       "        text-align: right;\n",
       "    }\n",
       "</style>\n",
       "<table border=\"1\" class=\"dataframe\">\n",
       "  <thead>\n",
       "    <tr style=\"text-align: right;\">\n",
       "      <th></th>\n",
       "      <th>Name</th>\n",
       "      <th>Age</th>\n",
       "      <th>Nationality</th>\n",
       "      <th>Overall_rating</th>\n",
       "      <th>Potential</th>\n",
       "      <th>Club</th>\n",
       "      <th>Preferred Foot</th>\n",
       "      <th>International Reputation</th>\n",
       "      <th>Weak Foot</th>\n",
       "      <th>Skill Moves</th>\n",
       "      <th>Position</th>\n",
       "      <th>Jersey Number</th>\n",
       "      <th>Height</th>\n",
       "      <th>Weight</th>\n",
       "      <th>Attacking Work Rate</th>\n",
       "      <th>Defensive Work Rate</th>\n",
       "    </tr>\n",
       "  </thead>\n",
       "  <tbody>\n",
       "    <tr>\n",
       "      <th>0</th>\n",
       "      <td>L. Messi</td>\n",
       "      <td>31</td>\n",
       "      <td>Argentina</td>\n",
       "      <td>94</td>\n",
       "      <td>94</td>\n",
       "      <td>FC Barcelona</td>\n",
       "      <td>Left</td>\n",
       "      <td>5</td>\n",
       "      <td>4</td>\n",
       "      <td>4</td>\n",
       "      <td>RF</td>\n",
       "      <td>10</td>\n",
       "      <td>5.583333</td>\n",
       "      <td>159</td>\n",
       "      <td>Medium</td>\n",
       "      <td>Medium</td>\n",
       "    </tr>\n",
       "    <tr>\n",
       "      <th>1</th>\n",
       "      <td>Cristiano Ronaldo</td>\n",
       "      <td>33</td>\n",
       "      <td>Portugal</td>\n",
       "      <td>94</td>\n",
       "      <td>94</td>\n",
       "      <td>Juventus</td>\n",
       "      <td>Right</td>\n",
       "      <td>5</td>\n",
       "      <td>4</td>\n",
       "      <td>5</td>\n",
       "      <td>ST</td>\n",
       "      <td>7</td>\n",
       "      <td>6.166667</td>\n",
       "      <td>183</td>\n",
       "      <td>High</td>\n",
       "      <td>Low</td>\n",
       "    </tr>\n",
       "    <tr>\n",
       "      <th>2</th>\n",
       "      <td>Neymar Jr</td>\n",
       "      <td>26</td>\n",
       "      <td>Brazil</td>\n",
       "      <td>92</td>\n",
       "      <td>93</td>\n",
       "      <td>Paris Saint-Germain</td>\n",
       "      <td>Right</td>\n",
       "      <td>5</td>\n",
       "      <td>5</td>\n",
       "      <td>5</td>\n",
       "      <td>LW</td>\n",
       "      <td>10</td>\n",
       "      <td>5.750000</td>\n",
       "      <td>150</td>\n",
       "      <td>High</td>\n",
       "      <td>Medium</td>\n",
       "    </tr>\n",
       "    <tr>\n",
       "      <th>3</th>\n",
       "      <td>De Gea</td>\n",
       "      <td>27</td>\n",
       "      <td>Spain</td>\n",
       "      <td>91</td>\n",
       "      <td>93</td>\n",
       "      <td>Manchester United</td>\n",
       "      <td>Right</td>\n",
       "      <td>4</td>\n",
       "      <td>3</td>\n",
       "      <td>1</td>\n",
       "      <td>GK</td>\n",
       "      <td>1</td>\n",
       "      <td>6.333333</td>\n",
       "      <td>168</td>\n",
       "      <td>Medium</td>\n",
       "      <td>Medium</td>\n",
       "    </tr>\n",
       "    <tr>\n",
       "      <th>4</th>\n",
       "      <td>K. De Bruyne</td>\n",
       "      <td>27</td>\n",
       "      <td>Belgium</td>\n",
       "      <td>91</td>\n",
       "      <td>92</td>\n",
       "      <td>Manchester City</td>\n",
       "      <td>Right</td>\n",
       "      <td>4</td>\n",
       "      <td>5</td>\n",
       "      <td>4</td>\n",
       "      <td>RCM</td>\n",
       "      <td>7</td>\n",
       "      <td>5.083333</td>\n",
       "      <td>154</td>\n",
       "      <td>High</td>\n",
       "      <td>High</td>\n",
       "    </tr>\n",
       "  </tbody>\n",
       "</table>\n",
       "</div>"
      ],
      "text/plain": [
       "                Name  Age Nationality  Overall_rating  Potential  \\\n",
       "0           L. Messi   31   Argentina              94         94   \n",
       "1  Cristiano Ronaldo   33    Portugal              94         94   \n",
       "2          Neymar Jr   26      Brazil              92         93   \n",
       "3             De Gea   27       Spain              91         93   \n",
       "4       K. De Bruyne   27     Belgium              91         92   \n",
       "\n",
       "                  Club Preferred Foot  International Reputation  Weak Foot  \\\n",
       "0         FC Barcelona           Left                         5          4   \n",
       "1             Juventus          Right                         5          4   \n",
       "2  Paris Saint-Germain          Right                         5          5   \n",
       "3    Manchester United          Right                         4          3   \n",
       "4      Manchester City          Right                         4          5   \n",
       "\n",
       "   Skill Moves Position Jersey Number    Height  Weight Attacking Work Rate  \\\n",
       "0            4       RF            10  5.583333     159              Medium   \n",
       "1            5       ST             7  6.166667     183                High   \n",
       "2            5       LW            10  5.750000     150                High   \n",
       "3            1       GK             1  6.333333     168              Medium   \n",
       "4            4      RCM             7  5.083333     154                High   \n",
       "\n",
       "  Defensive Work Rate  \n",
       "0              Medium  \n",
       "1                 Low  \n",
       "2              Medium  \n",
       "3              Medium  \n",
       "4                High  "
      ]
     },
     "execution_count": 15,
     "metadata": {},
     "output_type": "execute_result"
    }
   ],
   "source": [
    "df_fifa.head()"
   ]
  },
  {
   "cell_type": "code",
   "execution_count": 16,
   "id": "94776654",
   "metadata": {},
   "outputs": [
    {
     "data": {
      "text/plain": [
       "Name                        0\n",
       "Age                         0\n",
       "Nationality                 0\n",
       "Overall_rating              0\n",
       "Potential                   0\n",
       "Club                        0\n",
       "Preferred Foot              0\n",
       "International Reputation    0\n",
       "Weak Foot                   0\n",
       "Skill Moves                 0\n",
       "Position                    0\n",
       "Jersey Number               0\n",
       "Height                      0\n",
       "Weight                      0\n",
       "Attacking Work Rate         0\n",
       "Defensive Work Rate         0\n",
       "dtype: int64"
      ]
     },
     "execution_count": 16,
     "metadata": {},
     "output_type": "execute_result"
    }
   ],
   "source": [
    "df_fifa.isnull().sum()"
   ]
  },
  {
   "cell_type": "markdown",
   "id": "5285ccc8",
   "metadata": {},
   "source": [
    "**a)\tAssuming age as population, performed the central limit theorem with sample size of 200. Find the standard error and the mean of sampling distribution. Compare the results with population mean and standard deviation.**"
   ]
  },
  {
   "cell_type": "code",
   "execution_count": 23,
   "id": "0bfc21a9",
   "metadata": {},
   "outputs": [],
   "source": [
    "age = df_fifa['Age']\n",
    "pop_mean = np.mean(age)\n",
    "pop_std = statistics.stdev(age)"
   ]
  },
  {
   "cell_type": "code",
   "execution_count": 24,
   "id": "44b048cb",
   "metadata": {},
   "outputs": [
    {
     "name": "stdout",
     "output_type": "stream",
     "text": [
      "The mean of sampling distribution is 27.44 yrs\n"
     ]
    }
   ],
   "source": [
    "samp_age = random.sample(population = sorted(age), k = 200)\n",
    "samp_mean = np.mean(samp_age)\n",
    "samp_std = statistics.stdev(samp_age)\n",
    "n = 200\n",
    "print(f'The mean of sampling distribution is {samp_mean} yrs')"
   ]
  },
  {
   "cell_type": "code",
   "execution_count": 25,
   "id": "9e85efb6",
   "metadata": {},
   "outputs": [
    {
     "name": "stdout",
     "output_type": "stream",
     "text": [
      "Standard error in age is 0.2085 yrs\n"
     ]
    }
   ],
   "source": [
    "s_err  = np.abs(round(pop_mean - samp_mean,4))\n",
    "print(f'Standard error in age is {s_err} yrs')"
   ]
  },
  {
   "cell_type": "markdown",
   "id": "ecb5f8e4",
   "metadata": {},
   "source": [
    "As the sample size increases, the sample means cluster more and more around the population mean.\n",
    "As the sample means moves toward the population mean, the sampling error decreases"
   ]
  },
  {
   "cell_type": "code",
   "execution_count": 22,
   "id": "30b421c6",
   "metadata": {},
   "outputs": [
    {
     "name": "stdout",
     "output_type": "stream",
     "text": [
      "Margin of error in age is 0.526 yrs\n"
     ]
    }
   ],
   "source": [
    "z_alpha_by_2 = np.abs(round(stats.norm.isf(0.05/2),4))\n",
    "\n",
    "error = round((z_alpha_by_2 * samp_std)/np.sqrt(n),4)\n",
    "\n",
    "print(f'Margin of error in age is {error} yrs')"
   ]
  },
  {
   "cell_type": "code",
   "execution_count": 26,
   "id": "6e5614da",
   "metadata": {},
   "outputs": [
    {
     "name": "stdout",
     "output_type": "stream",
     "text": [
      "95% Interval: 26.914 27.966\n"
     ]
    }
   ],
   "source": [
    "print('95% Interval:', samp_mean - error, samp_mean + error)"
   ]
  },
  {
   "cell_type": "markdown",
   "id": "ad48f8f7",
   "metadata": {},
   "source": [
    "With 95% confidence,Population mean lies between the 26.914 and 27.966"
   ]
  },
  {
   "cell_type": "markdown",
   "id": "16626d66",
   "metadata": {},
   "source": [
    "**b)\tIs there any evidence that the players overall rating is greater than 80?**"
   ]
  },
  {
   "cell_type": "markdown",
   "id": "f446d64a",
   "metadata": {},
   "source": [
    "Let the null and the alternate hypothesis be as follows:\n",
    "- H0: mu <= 80 i.e. there is no evidence that the players overall rating is greater than 80\n",
    "- H1: mu > 80 i.e. there is any evidence that the players overall rating is greater than 80"
   ]
  },
  {
   "cell_type": "code",
   "execution_count": 18,
   "id": "7881d0c1",
   "metadata": {},
   "outputs": [
    {
     "name": "stdout",
     "output_type": "stream",
     "text": [
      "Critical value for one-tailed Z-test: 1.64\n"
     ]
    }
   ],
   "source": [
    "z_val = np.abs(round(stats.norm.isf(q = 0.05), 2))\n",
    "\n",
    "print('Critical value for one-tailed Z-test:', z_val)"
   ]
  },
  {
   "cell_type": "markdown",
   "id": "d6f45c78",
   "metadata": {},
   "source": [
    "i.e. if z for a right-tailed test is greater than 1.64 then we reject the null hypothesis"
   ]
  },
  {
   "cell_type": "code",
   "execution_count": 19,
   "id": "84925ad0",
   "metadata": {},
   "outputs": [
    {
     "name": "stdout",
     "output_type": "stream",
     "text": [
      "Z-score:  -24.538460498672062\n",
      "p-value:  1.0\n"
     ]
    }
   ],
   "source": [
    "z_score, pval = stests.ztest(x1 = df_fifa['Overall_rating'], value = 80, alternative = 'larger')\n",
    "\n",
    "print(\"Z-score: \", z_score)\n",
    "print(\"p-value: \", pval)"
   ]
  },
  {
   "cell_type": "markdown",
   "id": "c3e5f866",
   "metadata": {},
   "source": [
    "From the above details, we can conclude the following:\n",
    "- z-score (-24.53) < z-critical (1.64)\n",
    "- p-value (1.0) > 0.05"
   ]
  },
  {
   "cell_type": "markdown",
   "id": "602cf01b",
   "metadata": {},
   "source": [
    "Hence we fail to reject the null hypothesis  \n",
    "So we can say that there is not enough evidence to say that the players overall rating is greater than 80"
   ]
  },
  {
   "cell_type": "markdown",
   "id": "7a2f54d7",
   "metadata": {},
   "source": [
    "**c)\tPerformed the statistical test to identify whether preferred foot has any impact on potential.**"
   ]
  },
  {
   "cell_type": "markdown",
   "id": "60b50ac9",
   "metadata": {},
   "source": [
    "Let the null & the alternate hypothesis be as folows:\n",
    "- H0: The variables preferred foot & potential are independent\n",
    "- H1: The variables preferred foot & potential are dependent"
   ]
  },
  {
   "cell_type": "code",
   "execution_count": 20,
   "id": "780796b9",
   "metadata": {},
   "outputs": [
    {
     "data": {
      "text/plain": [
       "array([[ 59,  42,  41,  31,  34,  51,  32,  29,  30,  32,  17,  17,  16,\n",
       "          9,  13,   6,   1,   4,   0,   2,   0],\n",
       "       [153, 182, 176, 114, 120, 142, 111, 100, 107,  78,  79,  49,  36,\n",
       "         32,  18,  15,  11,   5,   4,   1,   1]], dtype=int64)"
      ]
     },
     "execution_count": 20,
     "metadata": {},
     "output_type": "execute_result"
    }
   ],
   "source": [
    "table = pd.crosstab(df_fifa['Preferred Foot'], df_fifa['Potential'])\n",
    " \n",
    "observed_value = table.values\n",
    "observed_value"
   ]
  },
  {
   "cell_type": "code",
   "execution_count": 21,
   "id": "1960e190",
   "metadata": {},
   "outputs": [],
   "source": [
    "r=len(observed_value)\n",
    "c=len(observed_value[0])"
   ]
  },
  {
   "cell_type": "code",
   "execution_count": 22,
   "id": "c61bbc61",
   "metadata": {},
   "outputs": [
    {
     "name": "stdout",
     "output_type": "stream",
     "text": [
      "Critical value for chi-square test: 31.4104\n"
     ]
    }
   ],
   "source": [
    "chi2_val = np.abs(round(stats.chi2.isf(q = 0.05, df = (r-1)*(c-1)), 4))\n",
    "\n",
    "print('Critical value for chi-square test:', chi2_val)"
   ]
  },
  {
   "cell_type": "markdown",
   "id": "8a9becf4",
   "metadata": {},
   "source": [
    "i.e. if the chi-square value is greater than 31.4104, we reject the null hypothesis"
   ]
  },
  {
   "cell_type": "code",
   "execution_count": 23,
   "id": "1ec17d10",
   "metadata": {},
   "outputs": [
    {
     "name": "stdout",
     "output_type": "stream",
     "text": [
      "Test statistic: 29.55053700074528\n",
      "p-value: 0.07747130218941192\n",
      "Degrees of freedom: 20\n",
      "Expected values: [[ 49.396  52.192  50.561  33.785  35.882  44.969  33.319  30.057  31.921\n",
      "   25.63   22.368  15.378  12.116   9.553   7.223   4.893   2.796   2.097\n",
      "    0.932   0.699   0.233]\n",
      " [162.604 171.808 166.439 111.215 118.118 148.031 109.681  98.943 105.079\n",
      "   84.37   73.632  50.622  39.884  31.447  23.777  16.107   9.204   6.903\n",
      "    3.068   2.301   0.767]]\n"
     ]
    }
   ],
   "source": [
    "test_stat, p, dof, expected_value = chi2_contingency(observed = observed_value, correction = False)\n",
    "\n",
    "print(\"Test statistic:\", test_stat)\n",
    "print(\"p-value:\", p)\n",
    "print(\"Degrees of freedom:\", dof)\n",
    "print(\"Expected values:\", expected_value)"
   ]
  },
  {
   "cell_type": "markdown",
   "id": "b0cc8517",
   "metadata": {},
   "source": [
    "From the above details we can conclude the following:\n",
    "- test-statistic (29.55) < Critical chi-square (31.41)\n",
    "- p-value (0.07) > 0.05"
   ]
  },
  {
   "cell_type": "markdown",
   "id": "f9c2ffae",
   "metadata": {},
   "source": [
    "Hence we fail to reject our null hypothesis  \n",
    "The variables preferred foot & potential are independent  \n",
    "So we can conclude that we have no evidence to claim that preferred foot has an impact on potential"
   ]
  },
  {
   "cell_type": "markdown",
   "id": "47bb9fdb",
   "metadata": {},
   "source": [
    "**d)\tPerformed the statistical test to identify the relation between the overall rating and potential. [Assume both are continuous data points].**"
   ]
  },
  {
   "cell_type": "markdown",
   "id": "a600aa18",
   "metadata": {},
   "source": [
    "Let the null & the alternate hypothesis be as folows:\n",
    "- H0: The variables overall rating & potential are independent\n",
    "- H1: The variables overall rating & potential are dependent"
   ]
  },
  {
   "cell_type": "code",
   "execution_count": 24,
   "id": "f63b1b66",
   "metadata": {},
   "outputs": [
    {
     "data": {
      "text/plain": [
       "array([[212,  34,  15,  37,  22,  32,  22,  17,  12,  11,  10,   2,   1,\n",
       "          1,   1,   0,   0,   0,   0,   0,   0],\n",
       "       [  0, 190,  40,  16,  25,  18,  26,  11,  22,   8,   7,   5,   3,\n",
       "          2,   0,   0,   0,   0,   0,   0,   0],\n",
       "       [  0,   0, 162,  31,  11,  18,  11,  24,  17,  10,   9,   3,   2,\n",
       "          1,   4,   0,   0,   1,   0,   0,   0],\n",
       "       [  0,   0,   0,  61,  15,  22,  15,   5,  16,  15,   5,   7,   3,\n",
       "          3,   0,   1,   0,   0,   0,   0,   0],\n",
       "       [  0,   0,   0,   0,  81,  26,  12,  11,   8,  11,   7,  11,   3,\n",
       "          1,   0,   0,   0,   0,   0,   0,   0],\n",
       "       [  0,   0,   0,   0,   0,  77,  13,   6,  11,   7,  18,   4,   3,\n",
       "          1,   2,   1,   0,   0,   0,   0,   0],\n",
       "       [  0,   0,   0,   0,   0,   0,  44,  10,   4,  10,   5,   7,   5,\n",
       "          4,   4,   0,   0,   0,   0,   0,   0],\n",
       "       [  0,   0,   0,   0,   0,   0,   0,  45,  15,   4,   9,   3,   8,\n",
       "          5,   2,   1,   1,   0,   1,   0,   0],\n",
       "       [  0,   0,   0,   0,   0,   0,   0,   0,  32,  10,   3,   7,   5,\n",
       "          6,   3,   1,   1,   2,   0,   0,   0],\n",
       "       [  0,   0,   0,   0,   0,   0,   0,   0,   0,  24,   2,   3,   5,\n",
       "          5,   3,   3,   0,   0,   0,   0,   0],\n",
       "       [  0,   0,   0,   0,   0,   0,   0,   0,   0,   0,  21,   2,   3,\n",
       "          1,   1,   3,   0,   2,   0,   0,   0],\n",
       "       [  0,   0,   0,   0,   0,   0,   0,   0,   0,   0,   0,  12,   3,\n",
       "          1,   2,   1,   2,   1,   0,   0,   0],\n",
       "       [  0,   0,   0,   0,   0,   0,   0,   0,   0,   0,   0,   0,   8,\n",
       "          0,   1,   2,   1,   1,   0,   0,   0],\n",
       "       [  0,   0,   0,   0,   0,   0,   0,   0,   0,   0,   0,   0,   0,\n",
       "         10,   3,   1,   2,   0,   0,   0,   1],\n",
       "       [  0,   0,   0,   0,   0,   0,   0,   0,   0,   0,   0,   0,   0,\n",
       "          0,   5,   3,   1,   1,   0,   1,   0],\n",
       "       [  0,   0,   0,   0,   0,   0,   0,   0,   0,   0,   0,   0,   0,\n",
       "          0,   0,   4,   0,   0,   1,   0,   0],\n",
       "       [  0,   0,   0,   0,   0,   0,   0,   0,   0,   0,   0,   0,   0,\n",
       "          0,   0,   0,   4,   1,   1,   0,   0],\n",
       "       [  0,   0,   0,   0,   0,   0,   0,   0,   0,   0,   0,   0,   0,\n",
       "          0,   0,   0,   0,   0,   1,   0,   0],\n",
       "       [  0,   0,   0,   0,   0,   0,   0,   0,   0,   0,   0,   0,   0,\n",
       "          0,   0,   0,   0,   0,   0,   2,   0]], dtype=int64)"
      ]
     },
     "execution_count": 24,
     "metadata": {},
     "output_type": "execute_result"
    }
   ],
   "source": [
    "table = pd.crosstab(df_fifa['Overall_rating'], df_fifa['Potential'])\n",
    " \n",
    "observed_value = table.values\n",
    "observed_value"
   ]
  },
  {
   "cell_type": "code",
   "execution_count": 25,
   "id": "8670b034",
   "metadata": {},
   "outputs": [],
   "source": [
    "r=len(observed_value)\n",
    "c=len(observed_value[0])"
   ]
  },
  {
   "cell_type": "code",
   "execution_count": 26,
   "id": "467fcca2",
   "metadata": {},
   "outputs": [
    {
     "name": "stdout",
     "output_type": "stream",
     "text": [
      "Critical value for chi-square test: 405.2435\n"
     ]
    }
   ],
   "source": [
    "chi2_val = np.abs(round(stats.chi2.isf(q = 0.05, df = (r-1)*(c-1)), 4))\n",
    "\n",
    "print('Critical value for chi-square test:', chi2_val)"
   ]
  },
  {
   "cell_type": "markdown",
   "id": "3b420044",
   "metadata": {},
   "source": [
    "i.e. if the chi-square value is greater than 405.2435, we reject the null hypothesis"
   ]
  },
  {
   "cell_type": "code",
   "execution_count": 27,
   "id": "dddb1384",
   "metadata": {
    "scrolled": true
   },
   "outputs": [
    {
     "name": "stdout",
     "output_type": "stream",
     "text": [
      "Test statistic: 8592.974091115166\n",
      "p-value: 0.0\n",
      "Degrees of freedom: 360\n",
      "Expected values: [[4.54740e+01 4.80480e+01 4.65465e+01 3.11025e+01 3.30330e+01 4.13985e+01\n",
      "  3.06735e+01 2.76705e+01 2.93865e+01 2.35950e+01 2.05920e+01 1.41570e+01\n",
      "  1.11540e+01 8.79450e+00 6.64950e+00 4.50450e+00 2.57400e+00 1.93050e+00\n",
      "  8.58000e-01 6.43500e-01 2.14500e-01]\n",
      " [3.95380e+01 4.17760e+01 4.04705e+01 2.70425e+01 2.87210e+01 3.59945e+01\n",
      "  2.66695e+01 2.40585e+01 2.55505e+01 2.05150e+01 1.79040e+01 1.23090e+01\n",
      "  9.69800e+00 7.64650e+00 5.78150e+00 3.91650e+00 2.23800e+00 1.67850e+00\n",
      "  7.46000e-01 5.59500e-01 1.86500e-01]\n",
      " [3.22240e+01 3.40480e+01 3.29840e+01 2.20400e+01 2.34080e+01 2.93360e+01\n",
      "  2.17360e+01 1.96080e+01 2.08240e+01 1.67200e+01 1.45920e+01 1.00320e+01\n",
      "  7.90400e+00 6.23200e+00 4.71200e+00 3.19200e+00 1.82400e+00 1.36800e+00\n",
      "  6.08000e-01 4.56000e-01 1.52000e-01]\n",
      " [1.78080e+01 1.88160e+01 1.82280e+01 1.21800e+01 1.29360e+01 1.62120e+01\n",
      "  1.20120e+01 1.08360e+01 1.15080e+01 9.24000e+00 8.06400e+00 5.54400e+00\n",
      "  4.36800e+00 3.44400e+00 2.60400e+00 1.76400e+00 1.00800e+00 7.56000e-01\n",
      "  3.36000e-01 2.52000e-01 8.40000e-02]\n",
      " [1.81260e+01 1.91520e+01 1.85535e+01 1.23975e+01 1.31670e+01 1.65015e+01\n",
      "  1.22265e+01 1.10295e+01 1.17135e+01 9.40500e+00 8.20800e+00 5.64300e+00\n",
      "  4.44600e+00 3.50550e+00 2.65050e+00 1.79550e+00 1.02600e+00 7.69500e-01\n",
      "  3.42000e-01 2.56500e-01 8.55000e-02]\n",
      " [1.51580e+01 1.60160e+01 1.55155e+01 1.03675e+01 1.10110e+01 1.37995e+01\n",
      "  1.02245e+01 9.22350e+00 9.79550e+00 7.86500e+00 6.86400e+00 4.71900e+00\n",
      "  3.71800e+00 2.93150e+00 2.21650e+00 1.50150e+00 8.58000e-01 6.43500e-01\n",
      "  2.86000e-01 2.14500e-01 7.15000e-02]\n",
      " [9.85800e+00 1.04160e+01 1.00905e+01 6.74250e+00 7.16100e+00 8.97450e+00\n",
      "  6.64950e+00 5.99850e+00 6.37050e+00 5.11500e+00 4.46400e+00 3.06900e+00\n",
      "  2.41800e+00 1.90650e+00 1.44150e+00 9.76500e-01 5.58000e-01 4.18500e-01\n",
      "  1.86000e-01 1.39500e-01 4.65000e-02]\n",
      " [9.96400e+00 1.05280e+01 1.01990e+01 6.81500e+00 7.23800e+00 9.07100e+00\n",
      "  6.72100e+00 6.06300e+00 6.43900e+00 5.17000e+00 4.51200e+00 3.10200e+00\n",
      "  2.44400e+00 1.92700e+00 1.45700e+00 9.87000e-01 5.64000e-01 4.23000e-01\n",
      "  1.88000e-01 1.41000e-01 4.70000e-02]\n",
      " [7.42000e+00 7.84000e+00 7.59500e+00 5.07500e+00 5.39000e+00 6.75500e+00\n",
      "  5.00500e+00 4.51500e+00 4.79500e+00 3.85000e+00 3.36000e+00 2.31000e+00\n",
      "  1.82000e+00 1.43500e+00 1.08500e+00 7.35000e-01 4.20000e-01 3.15000e-01\n",
      "  1.40000e-01 1.05000e-01 3.50000e-02]\n",
      " [4.77000e+00 5.04000e+00 4.88250e+00 3.26250e+00 3.46500e+00 4.34250e+00\n",
      "  3.21750e+00 2.90250e+00 3.08250e+00 2.47500e+00 2.16000e+00 1.48500e+00\n",
      "  1.17000e+00 9.22500e-01 6.97500e-01 4.72500e-01 2.70000e-01 2.02500e-01\n",
      "  9.00000e-02 6.75000e-02 2.25000e-02]\n",
      " [3.49800e+00 3.69600e+00 3.58050e+00 2.39250e+00 2.54100e+00 3.18450e+00\n",
      "  2.35950e+00 2.12850e+00 2.26050e+00 1.81500e+00 1.58400e+00 1.08900e+00\n",
      "  8.58000e-01 6.76500e-01 5.11500e-01 3.46500e-01 1.98000e-01 1.48500e-01\n",
      "  6.60000e-02 4.95000e-02 1.65000e-02]\n",
      " [2.33200e+00 2.46400e+00 2.38700e+00 1.59500e+00 1.69400e+00 2.12300e+00\n",
      "  1.57300e+00 1.41900e+00 1.50700e+00 1.21000e+00 1.05600e+00 7.26000e-01\n",
      "  5.72000e-01 4.51000e-01 3.41000e-01 2.31000e-01 1.32000e-01 9.90000e-02\n",
      "  4.40000e-02 3.30000e-02 1.10000e-02]\n",
      " [1.37800e+00 1.45600e+00 1.41050e+00 9.42500e-01 1.00100e+00 1.25450e+00\n",
      "  9.29500e-01 8.38500e-01 8.90500e-01 7.15000e-01 6.24000e-01 4.29000e-01\n",
      "  3.38000e-01 2.66500e-01 2.01500e-01 1.36500e-01 7.80000e-02 5.85000e-02\n",
      "  2.60000e-02 1.95000e-02 6.50000e-03]\n",
      " [1.80200e+00 1.90400e+00 1.84450e+00 1.23250e+00 1.30900e+00 1.64050e+00\n",
      "  1.21550e+00 1.09650e+00 1.16450e+00 9.35000e-01 8.16000e-01 5.61000e-01\n",
      "  4.42000e-01 3.48500e-01 2.63500e-01 1.78500e-01 1.02000e-01 7.65000e-02\n",
      "  3.40000e-02 2.55000e-02 8.50000e-03]\n",
      " [1.16600e+00 1.23200e+00 1.19350e+00 7.97500e-01 8.47000e-01 1.06150e+00\n",
      "  7.86500e-01 7.09500e-01 7.53500e-01 6.05000e-01 5.28000e-01 3.63000e-01\n",
      "  2.86000e-01 2.25500e-01 1.70500e-01 1.15500e-01 6.60000e-02 4.95000e-02\n",
      "  2.20000e-02 1.65000e-02 5.50000e-03]\n",
      " [5.30000e-01 5.60000e-01 5.42500e-01 3.62500e-01 3.85000e-01 4.82500e-01\n",
      "  3.57500e-01 3.22500e-01 3.42500e-01 2.75000e-01 2.40000e-01 1.65000e-01\n",
      "  1.30000e-01 1.02500e-01 7.75000e-02 5.25000e-02 3.00000e-02 2.25000e-02\n",
      "  1.00000e-02 7.50000e-03 2.50000e-03]\n",
      " [6.36000e-01 6.72000e-01 6.51000e-01 4.35000e-01 4.62000e-01 5.79000e-01\n",
      "  4.29000e-01 3.87000e-01 4.11000e-01 3.30000e-01 2.88000e-01 1.98000e-01\n",
      "  1.56000e-01 1.23000e-01 9.30000e-02 6.30000e-02 3.60000e-02 2.70000e-02\n",
      "  1.20000e-02 9.00000e-03 3.00000e-03]\n",
      " [1.06000e-01 1.12000e-01 1.08500e-01 7.25000e-02 7.70000e-02 9.65000e-02\n",
      "  7.15000e-02 6.45000e-02 6.85000e-02 5.50000e-02 4.80000e-02 3.30000e-02\n",
      "  2.60000e-02 2.05000e-02 1.55000e-02 1.05000e-02 6.00000e-03 4.50000e-03\n",
      "  2.00000e-03 1.50000e-03 5.00000e-04]\n",
      " [2.12000e-01 2.24000e-01 2.17000e-01 1.45000e-01 1.54000e-01 1.93000e-01\n",
      "  1.43000e-01 1.29000e-01 1.37000e-01 1.10000e-01 9.60000e-02 6.60000e-02\n",
      "  5.20000e-02 4.10000e-02 3.10000e-02 2.10000e-02 1.20000e-02 9.00000e-03\n",
      "  4.00000e-03 3.00000e-03 1.00000e-03]]\n"
     ]
    }
   ],
   "source": [
    "test_stat, p, dof, expected_value = chi2_contingency(observed = observed_value, correction = False)\n",
    "\n",
    "print(\"Test statistic:\", test_stat)\n",
    "print(\"p-value:\", p)\n",
    "print(\"Degrees of freedom:\", dof)\n",
    "print(\"Expected values:\", expected_value)"
   ]
  },
  {
   "cell_type": "markdown",
   "id": "d782a209",
   "metadata": {},
   "source": [
    "From the above details we can conclude the following:\n",
    "- test-statistic (8592.97) > Critical chi-square (405.24)\n",
    "- p-value (0.0) < 0.05"
   ]
  },
  {
   "cell_type": "markdown",
   "id": "43ece93f",
   "metadata": {},
   "source": [
    "Hence we reject our null hypothesis  \n",
    "So we can conclude that the variables overall rating & potential are dependent"
   ]
  },
  {
   "cell_type": "markdown",
   "id": "f80dffa1",
   "metadata": {},
   "source": [
    "**e)\tDoes skill move have any effect in overall rating?**"
   ]
  },
  {
   "cell_type": "markdown",
   "id": "b738026d",
   "metadata": {},
   "source": [
    "Let the null & the alternate hypothesis be as folows:\n",
    "- H0: The variables skill move & overall rating are independent\n",
    "- H1: The variables skill move & overall rating are dependent"
   ]
  },
  {
   "cell_type": "code",
   "execution_count": 28,
   "id": "68be5054",
   "metadata": {},
   "outputs": [
    {
     "data": {
      "text/plain": [
       "array([[ 38,  32,  23,  15,  19,  18,   5,  12,  13,   7,   2,   1,   1,\n",
       "          3,   3,   1,   1,   0,   0],\n",
       "       [ 96,  78,  63,  30,  24,  25,  13,  20,  10,  10,  12,   6,   3,\n",
       "          2,   2,   1,   0,   0,   0],\n",
       "       [219, 171, 138,  64,  72,  56,  28,  24,  17,  11,   9,   4,   7,\n",
       "          2,   3,   1,   2,   0,   0],\n",
       "       [ 74,  92,  75,  59,  52,  41,  43,  34,  27,  13,   8,   9,   1,\n",
       "          7,   3,   2,   3,   0,   1],\n",
       "       [  2,   0,   5,   0,   4,   3,   4,   4,   3,   4,   2,   2,   1,\n",
       "          3,   0,   0,   0,   1,   1]], dtype=int64)"
      ]
     },
     "execution_count": 28,
     "metadata": {},
     "output_type": "execute_result"
    }
   ],
   "source": [
    "table = pd.crosstab(df_fifa['Skill Moves'], df_fifa['Overall_rating'])\n",
    " \n",
    "observed_value = table.values\n",
    "observed_value"
   ]
  },
  {
   "cell_type": "code",
   "execution_count": 29,
   "id": "3000fc51",
   "metadata": {},
   "outputs": [],
   "source": [
    "r=len(observed_value)\n",
    "c=len(observed_value[0])"
   ]
  },
  {
   "cell_type": "code",
   "execution_count": 30,
   "id": "5fc9ebc4",
   "metadata": {},
   "outputs": [
    {
     "name": "stdout",
     "output_type": "stream",
     "text": [
      "Critical value for chi-square test: 92.8083\n"
     ]
    }
   ],
   "source": [
    "chi2_val = np.abs(round(stats.chi2.isf(q = 0.05, df = (r-1)*(c-1)), 4))\n",
    "\n",
    "print('Critical value for chi-square test:', chi2_val)"
   ]
  },
  {
   "cell_type": "code",
   "execution_count": 31,
   "id": "7305cf2d",
   "metadata": {},
   "outputs": [
    {
     "name": "stdout",
     "output_type": "stream",
     "text": [
      "Test statistic: 264.3544361441865\n",
      "p-value: 9.004103479489286e-24\n",
      "Degrees of freedom: 72\n",
      "Expected values: [[4.16130e+01 3.61810e+01 2.94880e+01 1.62960e+01 1.65870e+01 1.38710e+01\n",
      "  9.02100e+00 9.11800e+00 6.79000e+00 4.36500e+00 3.20100e+00 2.13400e+00\n",
      "  1.26100e+00 1.64900e+00 1.06700e+00 4.85000e-01 5.82000e-01 9.70000e-02\n",
      "  1.94000e-01]\n",
      " [8.47275e+01 7.36675e+01 6.00400e+01 3.31800e+01 3.37725e+01 2.82425e+01\n",
      "  1.83675e+01 1.85650e+01 1.38250e+01 8.88750e+00 6.51750e+00 4.34500e+00\n",
      "  2.56750e+00 3.35750e+00 2.17250e+00 9.87500e-01 1.18500e+00 1.97500e-01\n",
      "  3.95000e-01]\n",
      " [1.77606e+02 1.54422e+02 1.25856e+02 6.95520e+01 7.07940e+01 5.92020e+01\n",
      "  3.85020e+01 3.89160e+01 2.89800e+01 1.86300e+01 1.36620e+01 9.10800e+00\n",
      "  5.38200e+00 7.03800e+00 4.55400e+00 2.07000e+00 2.48400e+00 4.14000e-01\n",
      "  8.28000e-01]\n",
      " [1.16688e+02 1.01456e+02 8.26880e+01 4.56960e+01 4.65120e+01 3.88960e+01\n",
      "  2.52960e+01 2.55680e+01 1.90400e+01 1.22400e+01 8.97600e+00 5.98400e+00\n",
      "  3.53600e+00 4.62400e+00 2.99200e+00 1.36000e+00 1.63200e+00 2.72000e-01\n",
      "  5.44000e-01]\n",
      " [8.36550e+00 7.27350e+00 5.92800e+00 3.27600e+00 3.33450e+00 2.78850e+00\n",
      "  1.81350e+00 1.83300e+00 1.36500e+00 8.77500e-01 6.43500e-01 4.29000e-01\n",
      "  2.53500e-01 3.31500e-01 2.14500e-01 9.75000e-02 1.17000e-01 1.95000e-02\n",
      "  3.90000e-02]]\n"
     ]
    }
   ],
   "source": [
    "test_stat, p, dof, expected_value = chi2_contingency(observed = observed_value, correction = False)\n",
    "\n",
    "print(\"Test statistic:\", test_stat)\n",
    "print(\"p-value:\", p)\n",
    "print(\"Degrees of freedom:\", dof)\n",
    "print(\"Expected values:\", expected_value)"
   ]
  },
  {
   "cell_type": "markdown",
   "id": "a8a87319",
   "metadata": {},
   "source": [
    "From the above details we can conclude the following:\n",
    "- test-statistic (264.35) > Critical chi-square (92.81)\n",
    "- p-value (9e-24) < 0.05"
   ]
  },
  {
   "cell_type": "markdown",
   "id": "24d383b3",
   "metadata": {},
   "source": [
    "Hence we reject our null hypothesis  \n",
    "The variables skill moves & overall rating are dependent  \n",
    "So we can conclude that skill move have an effect in overall rating"
   ]
  },
  {
   "cell_type": "markdown",
   "id": "bc99604c",
   "metadata": {},
   "source": [
    "### 2. Performed the following statistical analysis on the mobile network dataset given. The given data set contains information about the internet, calls, and messages of various network. Data Cleaning and basic EDA process needs to be performed. "
   ]
  },
  {
   "cell_type": "code",
   "execution_count": 29,
   "id": "3d47938a",
   "metadata": {},
   "outputs": [],
   "source": [
    "df_phone=pd.read_csv(r'Downloads\\phone.csv')"
   ]
  },
  {
   "cell_type": "code",
   "execution_count": 30,
   "id": "89770b9d",
   "metadata": {},
   "outputs": [
    {
     "data": {
      "text/html": [
       "<div>\n",
       "<style scoped>\n",
       "    .dataframe tbody tr th:only-of-type {\n",
       "        vertical-align: middle;\n",
       "    }\n",
       "\n",
       "    .dataframe tbody tr th {\n",
       "        vertical-align: top;\n",
       "    }\n",
       "\n",
       "    .dataframe thead th {\n",
       "        text-align: right;\n",
       "    }\n",
       "</style>\n",
       "<table border=\"1\" class=\"dataframe\">\n",
       "  <thead>\n",
       "    <tr style=\"text-align: right;\">\n",
       "      <th></th>\n",
       "      <th>date</th>\n",
       "      <th>duration</th>\n",
       "      <th>item</th>\n",
       "      <th>month</th>\n",
       "      <th>network</th>\n",
       "      <th>network_type</th>\n",
       "    </tr>\n",
       "  </thead>\n",
       "  <tbody>\n",
       "    <tr>\n",
       "      <th>0</th>\n",
       "      <td>15-10-14 6:58</td>\n",
       "      <td>221.321120</td>\n",
       "      <td>data</td>\n",
       "      <td>2014-11</td>\n",
       "      <td>data</td>\n",
       "      <td>data</td>\n",
       "    </tr>\n",
       "    <tr>\n",
       "      <th>1</th>\n",
       "      <td>15-10-14 6:58</td>\n",
       "      <td>81.610599</td>\n",
       "      <td>call</td>\n",
       "      <td>2014-11</td>\n",
       "      <td>Vodafone</td>\n",
       "      <td>mobile</td>\n",
       "    </tr>\n",
       "    <tr>\n",
       "      <th>2</th>\n",
       "      <td>15-10-14 14:46</td>\n",
       "      <td>143.109111</td>\n",
       "      <td>call</td>\n",
       "      <td>2014-11</td>\n",
       "      <td>Meteor</td>\n",
       "      <td>mobile</td>\n",
       "    </tr>\n",
       "    <tr>\n",
       "      <th>3</th>\n",
       "      <td>15-10-14 14:48</td>\n",
       "      <td>111.888670</td>\n",
       "      <td>call</td>\n",
       "      <td>2014-11</td>\n",
       "      <td>Tesco</td>\n",
       "      <td>mobile</td>\n",
       "    </tr>\n",
       "    <tr>\n",
       "      <th>4</th>\n",
       "      <td>15-10-14 17:27</td>\n",
       "      <td>246.695171</td>\n",
       "      <td>call</td>\n",
       "      <td>2014-11</td>\n",
       "      <td>Tesco</td>\n",
       "      <td>mobile</td>\n",
       "    </tr>\n",
       "  </tbody>\n",
       "</table>\n",
       "</div>"
      ],
      "text/plain": [
       "             date    duration  item    month   network network_type\n",
       "0   15-10-14 6:58  221.321120  data  2014-11      data         data\n",
       "1   15-10-14 6:58   81.610599  call  2014-11  Vodafone       mobile\n",
       "2  15-10-14 14:46  143.109111  call  2014-11    Meteor       mobile\n",
       "3  15-10-14 14:48  111.888670  call  2014-11     Tesco       mobile\n",
       "4  15-10-14 17:27  246.695171  call  2014-11     Tesco       mobile"
      ]
     },
     "execution_count": 30,
     "metadata": {},
     "output_type": "execute_result"
    }
   ],
   "source": [
    "df_phone.head()"
   ]
  },
  {
   "cell_type": "code",
   "execution_count": 31,
   "id": "dac530d9",
   "metadata": {},
   "outputs": [
    {
     "data": {
      "text/plain": [
       "(820, 6)"
      ]
     },
     "execution_count": 31,
     "metadata": {},
     "output_type": "execute_result"
    }
   ],
   "source": [
    "df_phone.shape"
   ]
  },
  {
   "cell_type": "code",
   "execution_count": 32,
   "id": "a96d8c07",
   "metadata": {},
   "outputs": [
    {
     "data": {
      "text/plain": [
       "4920"
      ]
     },
     "execution_count": 32,
     "metadata": {},
     "output_type": "execute_result"
    }
   ],
   "source": [
    "df_phone.size"
   ]
  },
  {
   "cell_type": "code",
   "execution_count": 33,
   "id": "125e7fdb",
   "metadata": {},
   "outputs": [
    {
     "name": "stdout",
     "output_type": "stream",
     "text": [
      "<class 'pandas.core.frame.DataFrame'>\n",
      "RangeIndex: 820 entries, 0 to 819\n",
      "Data columns (total 6 columns):\n",
      " #   Column        Non-Null Count  Dtype  \n",
      "---  ------        --------------  -----  \n",
      " 0   date          820 non-null    object \n",
      " 1   duration      820 non-null    float64\n",
      " 2   item          820 non-null    object \n",
      " 3   month         820 non-null    object \n",
      " 4   network       820 non-null    object \n",
      " 5   network_type  820 non-null    object \n",
      "dtypes: float64(1), object(5)\n",
      "memory usage: 38.6+ KB\n"
     ]
    }
   ],
   "source": [
    "df_phone.info()"
   ]
  },
  {
   "cell_type": "code",
   "execution_count": 34,
   "id": "94f6bda6",
   "metadata": {},
   "outputs": [],
   "source": [
    "df_phone['date'] = df_phone['date'].str.split(' ').str[0]"
   ]
  },
  {
   "cell_type": "code",
   "execution_count": 35,
   "id": "c0517fa1",
   "metadata": {},
   "outputs": [],
   "source": [
    "df_phone['year'] = df_phone['month'].str.split('-').str[0]"
   ]
  },
  {
   "cell_type": "code",
   "execution_count": 36,
   "id": "279fed1c",
   "metadata": {},
   "outputs": [],
   "source": [
    "df_phone['month'] = df_phone['month'].str.split('-').str[1]"
   ]
  },
  {
   "cell_type": "code",
   "execution_count": 37,
   "id": "59f9e96e",
   "metadata": {},
   "outputs": [
    {
     "data": {
      "text/html": [
       "<div>\n",
       "<style scoped>\n",
       "    .dataframe tbody tr th:only-of-type {\n",
       "        vertical-align: middle;\n",
       "    }\n",
       "\n",
       "    .dataframe tbody tr th {\n",
       "        vertical-align: top;\n",
       "    }\n",
       "\n",
       "    .dataframe thead th {\n",
       "        text-align: right;\n",
       "    }\n",
       "</style>\n",
       "<table border=\"1\" class=\"dataframe\">\n",
       "  <thead>\n",
       "    <tr style=\"text-align: right;\">\n",
       "      <th></th>\n",
       "      <th>date</th>\n",
       "      <th>duration</th>\n",
       "      <th>item</th>\n",
       "      <th>month</th>\n",
       "      <th>network</th>\n",
       "      <th>network_type</th>\n",
       "      <th>year</th>\n",
       "    </tr>\n",
       "  </thead>\n",
       "  <tbody>\n",
       "    <tr>\n",
       "      <th>0</th>\n",
       "      <td>15-10-14</td>\n",
       "      <td>221.321120</td>\n",
       "      <td>data</td>\n",
       "      <td>11</td>\n",
       "      <td>data</td>\n",
       "      <td>data</td>\n",
       "      <td>2014</td>\n",
       "    </tr>\n",
       "    <tr>\n",
       "      <th>1</th>\n",
       "      <td>15-10-14</td>\n",
       "      <td>81.610599</td>\n",
       "      <td>call</td>\n",
       "      <td>11</td>\n",
       "      <td>Vodafone</td>\n",
       "      <td>mobile</td>\n",
       "      <td>2014</td>\n",
       "    </tr>\n",
       "    <tr>\n",
       "      <th>2</th>\n",
       "      <td>15-10-14</td>\n",
       "      <td>143.109111</td>\n",
       "      <td>call</td>\n",
       "      <td>11</td>\n",
       "      <td>Meteor</td>\n",
       "      <td>mobile</td>\n",
       "      <td>2014</td>\n",
       "    </tr>\n",
       "    <tr>\n",
       "      <th>3</th>\n",
       "      <td>15-10-14</td>\n",
       "      <td>111.888670</td>\n",
       "      <td>call</td>\n",
       "      <td>11</td>\n",
       "      <td>Tesco</td>\n",
       "      <td>mobile</td>\n",
       "      <td>2014</td>\n",
       "    </tr>\n",
       "    <tr>\n",
       "      <th>4</th>\n",
       "      <td>15-10-14</td>\n",
       "      <td>246.695171</td>\n",
       "      <td>call</td>\n",
       "      <td>11</td>\n",
       "      <td>Tesco</td>\n",
       "      <td>mobile</td>\n",
       "      <td>2014</td>\n",
       "    </tr>\n",
       "  </tbody>\n",
       "</table>\n",
       "</div>"
      ],
      "text/plain": [
       "       date    duration  item month   network network_type  year\n",
       "0  15-10-14  221.321120  data    11      data         data  2014\n",
       "1  15-10-14   81.610599  call    11  Vodafone       mobile  2014\n",
       "2  15-10-14  143.109111  call    11    Meteor       mobile  2014\n",
       "3  15-10-14  111.888670  call    11     Tesco       mobile  2014\n",
       "4  15-10-14  246.695171  call    11     Tesco       mobile  2014"
      ]
     },
     "execution_count": 37,
     "metadata": {},
     "output_type": "execute_result"
    }
   ],
   "source": [
    "df_phone.head()"
   ]
  },
  {
   "cell_type": "markdown",
   "id": "7ebeb0cd",
   "metadata": {},
   "source": [
    "**a) With 95% & 99% Confidence Interval, find the range estimate of average duration calls made by the entire network. Which of the Intervals are wider? Interpret the results.**"
   ]
  },
  {
   "cell_type": "code",
   "execution_count": 38,
   "id": "3eb042db",
   "metadata": {},
   "outputs": [],
   "source": [
    "pop_mean = np.mean(df_phone['duration'])\n",
    "pop_std = statistics.stdev(df_phone['duration'])\n",
    "n = len(df_phone['duration'])"
   ]
  },
  {
   "cell_type": "code",
   "execution_count": 39,
   "id": "db03be67",
   "metadata": {},
   "outputs": [],
   "source": [
    "z_95 = stats.norm.isf(q=0.05/2)\n",
    "z_99 = stats.norm.isf(q=0.01/2)"
   ]
  },
  {
   "cell_type": "code",
   "execution_count": 40,
   "id": "e3146f7a",
   "metadata": {},
   "outputs": [],
   "source": [
    "e_95 = (z_95*pop_std)/np.sqrt(n)\n",
    "e_99 = (z_99*pop_std)/np.sqrt(n)"
   ]
  },
  {
   "cell_type": "code",
   "execution_count": 41,
   "id": "7fe3bea7",
   "metadata": {},
   "outputs": [
    {
     "name": "stdout",
     "output_type": "stream",
     "text": [
      "95% Interval: 141.17783972883012 147.43203139084062\n",
      "99% Interval: 140.1952350040881 148.41463611558265\n"
     ]
    }
   ],
   "source": [
    "print('95% Interval:', pop_mean - e_95, pop_mean + e_95)\n",
    "print('99% Interval:', pop_mean - e_99, pop_mean + e_99)"
   ]
  },
  {
   "cell_type": "markdown",
   "id": "03651347",
   "metadata": {},
   "source": [
    "The interval with 99% confidence has a wider interval"
   ]
  },
  {
   "cell_type": "markdown",
   "id": "e01baa5b",
   "metadata": {},
   "source": [
    "**b) Perform statistical analysis to check whether the networks are equally distributed in the dataset.**"
   ]
  },
  {
   "cell_type": "markdown",
   "id": "b041d2c2",
   "metadata": {},
   "source": [
    "Let the null and the alternate hypothesis be as follows:\n",
    "- H0: The networks are equally distributed\n",
    "- H1: The networks aren't equally distributed"
   ]
  },
  {
   "cell_type": "code",
   "execution_count": 42,
   "id": "ba7d5336",
   "metadata": {},
   "outputs": [],
   "source": [
    "gr_A = df_phone[df_phone['network'] == 'Vodafone']['duration']\n",
    "gr_B = df_phone[df_phone['network'] == 'Three']['duration']\n",
    "gr_C = df_phone[df_phone['network'] == 'data']['duration']\n",
    "gr_D = df_phone[df_phone['network'] == 'Meteor']['duration']\n",
    "gr_E = df_phone[df_phone['network'] == 'Tesco']['duration']\n",
    "gr_F = df_phone[df_phone['network'] == 'landline']['duration']\n",
    "gr_G = df_phone[df_phone['network'] == 'voicemail']['duration']"
   ]
  },
  {
   "cell_type": "code",
   "execution_count": 43,
   "id": "eb42cc6f",
   "metadata": {},
   "outputs": [
    {
     "name": "stdout",
     "output_type": "stream",
     "text": [
      "t: 7\n",
      "N: 820\n"
     ]
    }
   ],
   "source": [
    "t = df_phone['network'].nunique()\n",
    "print('t:', t)\n",
    "\n",
    "N = df_phone['network'].value_counts().sum()\n",
    "print('N:', N)"
   ]
  },
  {
   "cell_type": "code",
   "execution_count": 44,
   "id": "18fe1cf1",
   "metadata": {},
   "outputs": [
    {
     "name": "stdout",
     "output_type": "stream",
     "text": [
      "Critical value for F-test: 2.1097\n"
     ]
    }
   ],
   "source": [
    "f = np.abs(round(stats.f.isf(q = 0.05, dfn = t-1, dfd = N-t), 4))\n",
    "\n",
    "print('Critical value for F-test:', f)"
   ]
  },
  {
   "cell_type": "markdown",
   "id": "903e0d6a",
   "metadata": {},
   "source": [
    "i.e. if the test statistic value is greater than 2.1097 then we reject the null hypothesis"
   ]
  },
  {
   "cell_type": "code",
   "execution_count": 45,
   "id": "2e0359da",
   "metadata": {},
   "outputs": [
    {
     "name": "stdout",
     "output_type": "stream",
     "text": [
      "Test statistic: 1.369457971851241\n",
      "p-value: 0.24281208324273848\n"
     ]
    }
   ],
   "source": [
    "f_test, p_val = stats.f_oneway(gr_A, gr_B, gr_C, gr_D, gr_E)\n",
    "\n",
    "print('Test statistic:', f_test)\n",
    "print('p-value:', p_val)"
   ]
  },
  {
   "cell_type": "markdown",
   "id": "e17cf26d",
   "metadata": {},
   "source": [
    "From the above details we can conclude the following:\n",
    "- test-statistic (1.37) < Critical F-test (2.1)\n",
    "- p-value (0.24) > 0.05"
   ]
  },
  {
   "cell_type": "markdown",
   "id": "44e0654f",
   "metadata": {},
   "source": [
    "Hence we fail to reject our null hypothesis  \n",
    "So we can conclude that the networks are equally distributed"
   ]
  },
  {
   "cell_type": "markdown",
   "id": "53661c80",
   "metadata": {},
   "source": [
    "**c) Plot the distribution of duration with respect to each network in the same graph and interpret the results from the graph.**"
   ]
  },
  {
   "cell_type": "code",
   "execution_count": 49,
   "id": "76e7d604",
   "metadata": {},
   "outputs": [
    {
     "data": {
      "image/png": "[encoded data removed]",
      "text/plain": [
       "<Figure size 1080x576 with 1 Axes>"
      ]
     },
     "metadata": {
      "needs_background": "light"
     },
     "output_type": "display_data"
    }
   ],
   "source": [
    "plt.figure(figsize=(15,8))\n",
    "sns.kdeplot(data = df_phone, x = 'duration', hue='network')\n",
    "plt.title('Distribution of Networks')\n",
    "plt.show()"
   ]
  },
  {
   "cell_type": "markdown",
   "id": "bd234e0c",
   "metadata": {},
   "source": [
    "From the above distributions we can see that all the networks are similar to normal distribution.Even in point b) we concluded that the networks are equally distributed."
   ]
  },
  {
   "cell_type": "markdown",
   "id": "643fd1f7",
   "metadata": {},
   "source": [
    "**d)\tPerform statistical tests to identify the relation between item and duration. Detailed explanation of relation between the classes is required.**"
   ]
  },
  {
   "cell_type": "markdown",
   "id": "4874729b",
   "metadata": {},
   "source": [
    "Let the null and the alternate hypothesis be as follows:\n",
    "- H0: The varaibles item and duration are independent\n",
    "- H1: The variables item and duration are dependent"
   ]
  },
  {
   "cell_type": "code",
   "execution_count": 50,
   "id": "f30027e5",
   "metadata": {},
   "outputs": [
    {
     "data": {
      "text/plain": [
       "array([[0, 0, 1, ..., 0, 1, 0],\n",
       "       [1, 0, 0, ..., 0, 0, 1],\n",
       "       [0, 1, 0, ..., 1, 0, 0]], dtype=int64)"
      ]
     },
     "execution_count": 50,
     "metadata": {},
     "output_type": "execute_result"
    }
   ],
   "source": [
    "table = pd.crosstab(df_phone['item'], df_phone['duration'])\n",
    " \n",
    "observed_value = table.values\n",
    "observed_value"
   ]
  },
  {
   "cell_type": "code",
   "execution_count": 51,
   "id": "5b866530",
   "metadata": {},
   "outputs": [],
   "source": [
    "r=len(observed_value)\n",
    "c=len(observed_value[0])"
   ]
  },
  {
   "cell_type": "code",
   "execution_count": 52,
   "id": "1fdb396d",
   "metadata": {},
   "outputs": [
    {
     "name": "stdout",
     "output_type": "stream",
     "text": [
      "Critical value for chi-square test: 1733.2687\n"
     ]
    }
   ],
   "source": [
    "chi2_val = np.abs(round(stats.chi2.isf(q = 0.05, df = (r-1)*(c-1)), 4))\n",
    "\n",
    "print('Critical value for chi-square test:', chi2_val)"
   ]
  },
  {
   "cell_type": "markdown",
   "id": "aed09e11",
   "metadata": {},
   "source": [
    "i.e. if the chi-square value is greater than 1733.2687, we reject the null hypothesis"
   ]
  },
  {
   "cell_type": "code",
   "execution_count": 53,
   "id": "d053c8cf",
   "metadata": {},
   "outputs": [
    {
     "name": "stdout",
     "output_type": "stream",
     "text": [
      "Test statistic: 1640.0\n",
      "p-value: 0.4814258260445956\n",
      "Degrees of freedom: 1638\n",
      "Expected values: [[0.47317073 0.47317073 0.47317073 ... 0.47317073 0.47317073 0.47317073]\n",
      " [0.18292683 0.18292683 0.18292683 ... 0.18292683 0.18292683 0.18292683]\n",
      " [0.34390244 0.34390244 0.34390244 ... 0.34390244 0.34390244 0.34390244]]\n"
     ]
    }
   ],
   "source": [
    "test_stat, p, dof, expected_value = chi2_contingency(observed = observed_value, correction = False)\n",
    "\n",
    "print(\"Test statistic:\", test_stat)\n",
    "print(\"p-value:\", p)\n",
    "print(\"Degrees of freedom:\", dof)\n",
    "print(\"Expected values:\", expected_value)"
   ]
  },
  {
   "cell_type": "markdown",
   "id": "7f7eb17a",
   "metadata": {},
   "source": [
    "From the above details we can conclude the following:\n",
    "- test-statistic (1640) < Critical chi-square (1733.27)\n",
    "- p-value (0.48) > 0.05"
   ]
  },
  {
   "cell_type": "markdown",
   "id": "6479931a",
   "metadata": {},
   "source": [
    "Hence we fail to reject our null hypothesis  \n",
    "So we can conclude that the variables item and duration are dependent"
   ]
  },
  {
   "cell_type": "markdown",
   "id": "db555407",
   "metadata": {},
   "source": [
    "**e)\tPerform statistical tests to identify the relation between network and network_type.**"
   ]
  },
  {
   "cell_type": "markdown",
   "id": "6611c925",
   "metadata": {},
   "source": [
    "Let the null and the alternate hypothesis be as follows:\n",
    "- H0: The varaibles network and network type are independent\n",
    "- H1: The variables network and network type are dependent"
   ]
  },
  {
   "cell_type": "code",
   "execution_count": 54,
   "id": "f151a42e",
   "metadata": {},
   "outputs": [
    {
     "data": {
      "text/plain": [
       "array([[  0,   0,  87,   0],\n",
       "       [  0,   0,  84,   0],\n",
       "       [  0,   0, 215,   0],\n",
       "       [  0,   0, 215,   0],\n",
       "       [150,   0,   0,   0],\n",
       "       [  0,  42,   0,   0],\n",
       "       [  0,   0,   0,  27]], dtype=int64)"
      ]
     },
     "execution_count": 54,
     "metadata": {},
     "output_type": "execute_result"
    }
   ],
   "source": [
    "table = pd.crosstab(df_phone['network'], df_phone['network_type'])\n",
    " \n",
    "observed_value = table.values\n",
    "observed_value"
   ]
  },
  {
   "cell_type": "code",
   "execution_count": 55,
   "id": "efb88e83",
   "metadata": {},
   "outputs": [],
   "source": [
    "r=len(observed_value)\n",
    "c=len(observed_value[0])"
   ]
  },
  {
   "cell_type": "code",
   "execution_count": 56,
   "id": "2d197217",
   "metadata": {},
   "outputs": [
    {
     "name": "stdout",
     "output_type": "stream",
     "text": [
      "Critical value for chi-square test: 28.8693\n"
     ]
    }
   ],
   "source": [
    "chi2_val = np.abs(round(stats.chi2.isf(q = 0.05, df = (r-1)*(c-1)), 4))\n",
    "\n",
    "print('Critical value for chi-square test:', chi2_val)"
   ]
  },
  {
   "cell_type": "markdown",
   "id": "73f96bbd",
   "metadata": {},
   "source": [
    "i.e. if the chi-square value is greater than 28.8693, we reject the null hypothesis"
   ]
  },
  {
   "cell_type": "code",
   "execution_count": 57,
   "id": "df81885a",
   "metadata": {},
   "outputs": [
    {
     "name": "stdout",
     "output_type": "stream",
     "text": [
      "Test statistic: 2460.0\n",
      "p-value: 0.0\n",
      "Degrees of freedom: 18\n",
      "Expected values: [[ 15.91463415   4.45609756  63.76463415   2.86463415]\n",
      " [ 15.36585366   4.30243902  61.56585366   2.76585366]\n",
      " [ 39.32926829  11.01219512 157.57926829   7.07926829]\n",
      " [ 39.32926829  11.01219512 157.57926829   7.07926829]\n",
      " [ 27.43902439   7.68292683 109.93902439   4.93902439]\n",
      " [  7.68292683   2.15121951  30.78292683   1.38292683]\n",
      " [  4.93902439   1.38292683  19.78902439   0.88902439]]\n"
     ]
    }
   ],
   "source": [
    "test_stat, p, dof, expected_value = chi2_contingency(observed = observed_value, correction = False)\n",
    "\n",
    "print(\"Test statistic:\", test_stat)\n",
    "print(\"p-value:\", p)\n",
    "print(\"Degrees of freedom:\", dof)\n",
    "print(\"Expected values:\", expected_value)"
   ]
  },
  {
   "cell_type": "markdown",
   "id": "3fd9611a",
   "metadata": {},
   "source": [
    "From the above details we can conclude the following:\n",
    "- test-statistic (2460) > Critical chi-square (28.8693)\n",
    "- p-value (0.0) > 0.05"
   ]
  },
  {
   "cell_type": "markdown",
   "id": "a5671e45",
   "metadata": {},
   "source": [
    "Hence we reject our null hypothesis  \n",
    "So we can conclude that the variables network and network type are dependent"
   ]
  }
 ],
 "metadata": {
  "kernelspec": {
   "display_name": "Python 3 (ipykernel)",
   "language": "python",
   "name": "python3"
  },
  "language_info": {
   "codemirror_mode": {
    "name": "ipython",
    "version": 3
   },
   "file_extension": ".py",
   "mimetype": "text/x-python",
   "name": "python",
   "nbconvert_exporter": "python",
   "pygments_lexer": "ipython3",
   "version": "3.11.5"
  }
 },
 "nbformat": 4,
 "nbformat_minor": 5
}
